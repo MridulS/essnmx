{
 "cells": [
  {
   "cell_type": "markdown",
   "metadata": {},
   "source": [
    "# Scaling\n",
    "\n",
    "## MTZ IO\n",
    "\n",
    "``ess.nmx`` has ``MTZ`` IO helper functions.\n",
    "They can be used as providers in a workflow of scaling routine.\n",
    "\n",
    "They are wrapping ``MTZ`` IO functions of ``gemmi``."
   ]
  },
  {
   "cell_type": "code",
   "execution_count": null,
   "metadata": {},
   "outputs": [],
   "source": [
    "from ess.nmx.mtz_io import read_mtz_file, mtz_to_pandas, MTZFilePath\n",
    "from ess.nmx.data import get_small_mtz_samples\n",
    "\n",
    "\n",
    "small_mtz_sample = get_small_mtz_samples()[0]\n",
    "mtz = read_mtz_file(MTZFilePath(small_mtz_sample))\n",
    "df = mtz_to_pandas(mtz)\n",
    "df.head()"
   ]
  },
  {
   "cell_type": "markdown",
   "metadata": {},
   "source": [
    "## Build Pipeline\n",
    "\n",
    "Scaling routine includes:\n",
    "- Reducing individual MTZ dataset\n",
    "- Merging MTZ dataset \n",
    "- Reducing merged MTZ dataset\n",
    "\n",
    "These operations are done on pandas dataframe as recommended in ``gemmi``.\n",
    "And multiple MTZ files are expected, so we need to use ``sciline.ParamTable``.\n",
    "<!--TODO: Update it to use cyclebane instead of ParamTable if needed.-->"
   ]
  },
  {
   "cell_type": "code",
   "execution_count": null,
   "metadata": {},
   "outputs": [],
   "source": [
    "import sciline as sl\n",
    "import scipp as sc\n",
    "\n",
    "from ess.nmx.mtz_io import mtz_io_providers, mtz_io_params\n",
    "from ess.nmx.mtz_io import MTZFileIndex, SpaceGroupDesc\n",
    "from ess.nmx.scaling import scaling_providers, scaling_params\n",
    "from ess.nmx.scaling import (\n",
    "    WavelengthBinSize,\n",
    "    FilteredEstimatedScaledIntensities,\n",
    "    ReferenceWavelength,\n",
    "    WavelengthBinCutProportion,\n",
    "    NRoot,\n",
    "    NRootStdDevCut,\n",
    ")\n",
    "\n",
    "pl = sl.Pipeline(\n",
    "    providers=mtz_io_providers + scaling_providers,\n",
    "    params={\n",
    "        SpaceGroupDesc: \"C 1 2 1\",\n",
    "        WavelengthBinSize: 500,\n",
    "        ReferenceWavelength: sc.scalar(\n",
    "            3, unit=sc.units.angstrom\n",
    "        ),  # Remove it if you want to use the middle of the bin\n",
    "        WavelengthBinCutProportion: 0.25,  # 0 < proportion < 0.5\n",
    "        NRoot: 4,  # Increase this value to effectively remove more outliers on the right tail\n",
    "        NRootStdDevCut: 1.0,  # Lower this value to remove more outliers\n",
    "        **mtz_io_params,\n",
    "        **scaling_params,\n",
    "    },\n",
    ")\n",
    "\n",
    "file_path_table = sl.ParamTable(\n",
    "    row_dim=MTZFileIndex, columns={MTZFilePath: get_small_mtz_samples()}\n",
    ")\n",
    "\n",
    "pl.set_param_table(file_path_table)\n",
    "pl"
   ]
  },
  {
   "cell_type": "markdown",
   "metadata": {},
   "source": [
    "## Build Workflow"
   ]
  },
  {
   "cell_type": "code",
   "execution_count": null,
   "metadata": {},
   "outputs": [],
   "source": [
    "scaling_nmx_workflow = pl.get(FilteredEstimatedScaledIntensities)\n",
    "scaling_nmx_workflow.visualize(graph_attr={\"rankdir\": \"LR\"})"
   ]
  },
  {
   "cell_type": "markdown",
   "metadata": {},
   "source": [
    "## Compute Desired Type"
   ]
  },
  {
   "cell_type": "code",
   "execution_count": null,
   "metadata": {},
   "outputs": [],
   "source": [
    "scaling_nmx_workflow.compute(FilteredEstimatedScaledIntensities)"
   ]
  }
 ],
 "metadata": {
  "kernelspec": {
   "display_name": "nmx-dev-310",
   "language": "python",
   "name": "python3"
  },
  "language_info": {
   "codemirror_mode": {
    "name": "ipython",
    "version": 3
   },
   "file_extension": ".py",
   "mimetype": "text/x-python",
   "name": "python",
   "nbconvert_exporter": "python",
   "pygments_lexer": "ipython3",
   "version": "3.10.13"
  }
 },
 "nbformat": 4,
 "nbformat_minor": 2
}
