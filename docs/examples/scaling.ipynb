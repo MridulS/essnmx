{
 "cells": [
  {
   "cell_type": "markdown",
   "metadata": {},
   "source": [
    "# Scaling\n",
    "\n",
    "## MTZ IO\n",
    "\n",
    "``ess.nmx`` has ``MTZ`` IO helper functions.\n",
    "They can be used as providers in a workflow of scaling routine.\n",
    "\n",
    "They are wrapping ``MTZ`` IO functions of ``gemmi``."
   ]
  },
  {
   "cell_type": "code",
   "execution_count": null,
   "metadata": {},
   "outputs": [],
   "source": [
    "from ess.nmx.mtz_io import read_mtz_file, mtz_to_pandas\n",
    "from ess.nmx.data import get_small_mtz_samples\n",
    "\n",
    "small_mtz_sample = get_small_mtz_samples()[0]\n",
    "mtz = read_mtz_file(small_mtz_sample)\n",
    "df = mtz_to_pandas(mtz)\n",
    "df.head()"
   ]
  }
 ],
 "metadata": {
  "kernelspec": {
   "display_name": "nmx-dev-310",
   "language": "python",
   "name": "python3"
  },
  "language_info": {
   "codemirror_mode": {
    "name": "ipython",
    "version": 3
   },
   "file_extension": ".py",
   "mimetype": "text/x-python",
   "name": "python",
   "nbconvert_exporter": "python",
   "pygments_lexer": "ipython3",
   "version": "3.10.13"
  }
 },
 "nbformat": 4,
 "nbformat_minor": 2
}
