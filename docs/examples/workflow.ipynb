{
 "cells": [
  {
   "cell_type": "markdown",
   "metadata": {},
   "source": [
    "# Workflow\n",
    "In this example, we will use McStas 3 simulation file.\n",
    "\n",
    "## Build Pipeline (Collect Parameters and Providers)\n",
    "Import the providers from ``load_mcstas_nexus`` to use the ``McStas`` simulation data workflow. <br>\n",
    "``MaximumProbability`` can be manually provided to derive more realistic number of events. <br>\n",
    "It is because ``weights`` are given as probability, not number of events in a McStas file. <br>"
   ]
  },
  {
   "cell_type": "code",
   "execution_count": null,
   "metadata": {},
   "outputs": [],
   "source": [
    "import sciline as sl\n",
    "\n",
    "from ess.nmx.mcstas_loader import providers as loader_providers\n",
    "from ess.nmx.mcstas_xml import read_mcstas_geometry_xml\n",
    "from ess.nmx.data import small_mcstas_3_sample, small_mcstas_2_sample\n",
    "from ess.nmx.types import *\n",
    "from ess.nmx.reduction import NMXData, NMXReducedData, bin_time_of_arrival, TimeBinSteps\n",
    "\n",
    "\n",
    "pl = sl.Pipeline((*loader_providers, read_mcstas_geometry_xml, bin_time_of_arrival))\n",
    "# Replace with the path to your own file\n",
    "pl[FilePath] = small_mcstas_3_sample()\n",
    "pl[MaximumProbability] = 10000\n",
    "pl[TimeBinSteps] = 50\n",
    "# DetectorIndex selects what detector panels to include in the run\n",
    "# in this case we select all three panels.\n",
    "pl.set_param_table(sl.ParamTable(RunID, {DetectorIndex: range(3)}, index=range(3)))"
   ]
  },
  {
   "cell_type": "markdown",
   "metadata": {},
   "source": [
    "To see what the pipeline can produce, display it:"
   ]
  },
  {
   "cell_type": "code",
   "execution_count": null,
   "metadata": {},
   "outputs": [],
   "source": [
    "pl"
   ]
  },
  {
   "cell_type": "markdown",
   "metadata": {},
   "source": [
    "## Build Workflow"
   ]
  },
  {
   "cell_type": "code",
   "execution_count": null,
   "metadata": {},
   "outputs": [],
   "source": [
    "nmx_workflow = pl.get(NMXReducedData)\n",
    "nmx_workflow.visualize()"
   ]
  },
  {
   "cell_type": "markdown",
   "metadata": {},
   "source": [
    "## Compute Desired Types"
   ]
  },
  {
   "cell_type": "code",
   "execution_count": null,
   "metadata": {},
   "outputs": [],
   "source": [
    "# Event data grouped by pixel id for each of the selected detectors\n",
    "dg = nmx_workflow.compute(sl.Series[RunID, NMXData])\n",
    "dg"
   ]
  },
  {
   "cell_type": "code",
   "execution_count": null,
   "metadata": {},
   "outputs": [],
   "source": [
    "# Data from all selected detectors binned by panel, pixel and timeslice\n",
    "binned_dg = nmx_workflow.compute(NMXReducedData)\n",
    "binned_dg"
   ]
  },
  {
   "cell_type": "markdown",
   "metadata": {},
   "source": [
    "## Export Results\n",
    "\n",
    "``NMXReducedData`` object has a method to export the data into nexus or h5 file.\n",
    "\n",
    "You can save the result as ``test.nxs`` for example.\n",
    "\n",
    "```python\n",
    "binned_dg.export_as_nexus('test.nxs')\n",
    "```"
   ]
  },
  {
   "cell_type": "code",
   "execution_count": null,
   "metadata": {},
   "outputs": [],
   "source": [
    "binned_dg.export_as_nexus('test.nxs')"
   ]
  },
  {
   "cell_type": "markdown",
   "metadata": {},
   "source": [
    "## Instrument View\n",
    "\n",
    "Pixel positions are not used for later steps,\n",
    "but it is included in the coordinates for instrument view.\n",
    "\n",
    "All pixel positions are relative to the sample position,\n",
    "therefore the sample is at (0, 0, 0).\n",
    "\n",
    "**It might be very slow or not work in the ``VS Code`` jupyter notebook editor.**"
   ]
  },
  {
   "cell_type": "code",
   "execution_count": null,
   "metadata": {},
   "outputs": [],
   "source": [
    "import scippneutron as scn\n",
    "\n",
    "da = dg[0]['weights']\n",
    "da.coords['position'] = dg[0]['position']['panel', 0]\n",
    "# Plot one out of 100 pixels to reduce size of docs output\n",
    "view = scn.instrument_view(da['id', ::100].hist(), pixel_size=0.0075)\n",
    "view.children[0].toolbar.cameraz()\n",
    "view"
   ]
  }
 ],
 "metadata": {
  "kernelspec": {
   "display_name": "Python 3 (ipykernel)",
   "language": "python",
   "name": "python3"
  },
  "language_info": {
   "codemirror_mode": {
    "name": "ipython",
    "version": 3
   },
   "file_extension": ".py",
   "mimetype": "text/x-python",
   "name": "python",
   "nbconvert_exporter": "python",
   "pygments_lexer": "ipython3",
   "version": "3.10.13"
  }
 },
 "nbformat": 4,
 "nbformat_minor": 4
}
